{
 "cells": [
  {
   "cell_type": "code",
   "execution_count": 1,
   "id": "7c51e9cd",
   "metadata": {},
   "outputs": [
    {
     "data": {
      "text/html": [
       "<div>\n",
       "<style scoped>\n",
       "    .dataframe tbody tr th:only-of-type {\n",
       "        vertical-align: middle;\n",
       "    }\n",
       "\n",
       "    .dataframe tbody tr th {\n",
       "        vertical-align: top;\n",
       "    }\n",
       "\n",
       "    .dataframe thead th {\n",
       "        text-align: right;\n",
       "    }\n",
       "</style>\n",
       "<table border=\"1\" class=\"dataframe\">\n",
       "  <thead>\n",
       "    <tr style=\"text-align: right;\">\n",
       "      <th></th>\n",
       "      <th>Student_ID</th>\n",
       "      <th>KA1</th>\n",
       "      <th>KA2</th>\n",
       "      <th>KA3</th>\n",
       "      <th>KA4</th>\n",
       "      <th>AV_KA</th>\n",
       "      <th>Prog_Exam_Mark</th>\n",
       "    </tr>\n",
       "  </thead>\n",
       "  <tbody>\n",
       "    <tr>\n",
       "      <th>0</th>\n",
       "      <td>210049.0</td>\n",
       "      <td>90.0</td>\n",
       "      <td>96.0</td>\n",
       "      <td>90.0</td>\n",
       "      <td>94.0</td>\n",
       "      <td>92.5</td>\n",
       "      <td>90</td>\n",
       "    </tr>\n",
       "    <tr>\n",
       "      <th>1</th>\n",
       "      <td>210115.0</td>\n",
       "      <td>72.0</td>\n",
       "      <td>80.0</td>\n",
       "      <td>58.0</td>\n",
       "      <td>58.0</td>\n",
       "      <td>67.0</td>\n",
       "      <td>73</td>\n",
       "    </tr>\n",
       "    <tr>\n",
       "      <th>2</th>\n",
       "      <td>210762.0</td>\n",
       "      <td>48.0</td>\n",
       "      <td>76.0</td>\n",
       "      <td>60.0</td>\n",
       "      <td>70.0</td>\n",
       "      <td>63.5</td>\n",
       "      <td>44</td>\n",
       "    </tr>\n",
       "    <tr>\n",
       "      <th>3</th>\n",
       "      <td>210252.0</td>\n",
       "      <td>60.0</td>\n",
       "      <td>78.0</td>\n",
       "      <td>64.0</td>\n",
       "      <td>62.0</td>\n",
       "      <td>66.0</td>\n",
       "      <td>58</td>\n",
       "    </tr>\n",
       "    <tr>\n",
       "      <th>4</th>\n",
       "      <td>210264.0</td>\n",
       "      <td>82.0</td>\n",
       "      <td>94.0</td>\n",
       "      <td>88.0</td>\n",
       "      <td>82.0</td>\n",
       "      <td>86.5</td>\n",
       "      <td>93</td>\n",
       "    </tr>\n",
       "  </tbody>\n",
       "</table>\n",
       "</div>"
      ],
      "text/plain": [
       "   Student_ID   KA1   KA2   KA3   KA4  AV_KA  Prog_Exam_Mark\n",
       "0    210049.0  90.0  96.0  90.0  94.0   92.5              90\n",
       "1    210115.0  72.0  80.0  58.0  58.0   67.0              73\n",
       "2    210762.0  48.0  76.0  60.0  70.0   63.5              44\n",
       "3    210252.0  60.0  78.0  64.0  62.0   66.0              58\n",
       "4    210264.0  82.0  94.0  88.0  82.0   86.5              93"
      ]
     },
     "metadata": {},
     "output_type": "display_data"
    }
   ],
   "source": [
    "import pandas as pd\n",
    "import matplotlib.pyplot as plt\n",
    "import numpy as np\n",
    "import seaborn as sns\n",
    "from sklearn.linear_model import LinearRegression\n",
    "from sklearn.model_selection import train_test_split\n",
    "from sklearn.metrics import mean_squared_error\n",
    "from scipy.stats import pearsonr\n",
    "\n",
    "\n",
    "student_data = pd.read_csv('Prog_exam_analysis_data.csv')\n",
    "display(student_data.head(5))"
   ]
  },
  {
   "cell_type": "code",
   "execution_count": 10,
   "id": "d115d61a",
   "metadata": {},
   "outputs": [],
   "source": [
    "student_data=student_data.set_index('Student_ID')"
   ]
  },
  {
   "cell_type": "code",
   "execution_count": 14,
   "id": "ca4e227b",
   "metadata": {},
   "outputs": [
    {
     "data": {
      "text/html": [
       "<div>\n",
       "<style scoped>\n",
       "    .dataframe tbody tr th:only-of-type {\n",
       "        vertical-align: middle;\n",
       "    }\n",
       "\n",
       "    .dataframe tbody tr th {\n",
       "        vertical-align: top;\n",
       "    }\n",
       "\n",
       "    .dataframe thead th {\n",
       "        text-align: right;\n",
       "    }\n",
       "</style>\n",
       "<table border=\"1\" class=\"dataframe\">\n",
       "  <thead>\n",
       "    <tr style=\"text-align: right;\">\n",
       "      <th></th>\n",
       "      <th>KA1</th>\n",
       "      <th>KA2</th>\n",
       "      <th>KA3</th>\n",
       "      <th>KA4</th>\n",
       "      <th>AV_KA</th>\n",
       "      <th>Prog_Exam_Mark</th>\n",
       "    </tr>\n",
       "    <tr>\n",
       "      <th>Student_ID</th>\n",
       "      <th></th>\n",
       "      <th></th>\n",
       "      <th></th>\n",
       "      <th></th>\n",
       "      <th></th>\n",
       "      <th></th>\n",
       "    </tr>\n",
       "  </thead>\n",
       "  <tbody>\n",
       "    <tr>\n",
       "      <th>210049.0</th>\n",
       "      <td>90.0</td>\n",
       "      <td>96.0</td>\n",
       "      <td>90.0</td>\n",
       "      <td>94.0</td>\n",
       "      <td>92.5</td>\n",
       "      <td>90</td>\n",
       "    </tr>\n",
       "    <tr>\n",
       "      <th>210115.0</th>\n",
       "      <td>72.0</td>\n",
       "      <td>80.0</td>\n",
       "      <td>58.0</td>\n",
       "      <td>58.0</td>\n",
       "      <td>67.0</td>\n",
       "      <td>73</td>\n",
       "    </tr>\n",
       "    <tr>\n",
       "      <th>210762.0</th>\n",
       "      <td>48.0</td>\n",
       "      <td>76.0</td>\n",
       "      <td>60.0</td>\n",
       "      <td>70.0</td>\n",
       "      <td>63.5</td>\n",
       "      <td>44</td>\n",
       "    </tr>\n",
       "    <tr>\n",
       "      <th>210252.0</th>\n",
       "      <td>60.0</td>\n",
       "      <td>78.0</td>\n",
       "      <td>64.0</td>\n",
       "      <td>62.0</td>\n",
       "      <td>66.0</td>\n",
       "      <td>58</td>\n",
       "    </tr>\n",
       "    <tr>\n",
       "      <th>210264.0</th>\n",
       "      <td>82.0</td>\n",
       "      <td>94.0</td>\n",
       "      <td>88.0</td>\n",
       "      <td>82.0</td>\n",
       "      <td>86.5</td>\n",
       "      <td>93</td>\n",
       "    </tr>\n",
       "    <tr>\n",
       "      <th>...</th>\n",
       "      <td>...</td>\n",
       "      <td>...</td>\n",
       "      <td>...</td>\n",
       "      <td>...</td>\n",
       "      <td>...</td>\n",
       "      <td>...</td>\n",
       "    </tr>\n",
       "    <tr>\n",
       "      <th>211366.0</th>\n",
       "      <td>54.0</td>\n",
       "      <td>98.0</td>\n",
       "      <td>48.0</td>\n",
       "      <td>80.0</td>\n",
       "      <td>70.0</td>\n",
       "      <td>71</td>\n",
       "    </tr>\n",
       "    <tr>\n",
       "      <th>211825.0</th>\n",
       "      <td>50.0</td>\n",
       "      <td>56.0</td>\n",
       "      <td>62.0</td>\n",
       "      <td>80.0</td>\n",
       "      <td>62.0</td>\n",
       "      <td>58</td>\n",
       "    </tr>\n",
       "    <tr>\n",
       "      <th>211882.0</th>\n",
       "      <td>86.0</td>\n",
       "      <td>98.0</td>\n",
       "      <td>54.0</td>\n",
       "      <td>92.0</td>\n",
       "      <td>82.5</td>\n",
       "      <td>82</td>\n",
       "    </tr>\n",
       "    <tr>\n",
       "      <th>210232.0</th>\n",
       "      <td>62.0</td>\n",
       "      <td>82.0</td>\n",
       "      <td>34.0</td>\n",
       "      <td>80.0</td>\n",
       "      <td>65.0</td>\n",
       "      <td>77</td>\n",
       "    </tr>\n",
       "    <tr>\n",
       "      <th>211308.0</th>\n",
       "      <td>24.0</td>\n",
       "      <td>34.0</td>\n",
       "      <td>62.0</td>\n",
       "      <td>50.0</td>\n",
       "      <td>43.0</td>\n",
       "      <td>31</td>\n",
       "    </tr>\n",
       "  </tbody>\n",
       "</table>\n",
       "<p>204 rows × 6 columns</p>\n",
       "</div>"
      ],
      "text/plain": [
       "             KA1   KA2   KA3   KA4  AV_KA  Prog_Exam_Mark\n",
       "Student_ID                                               \n",
       "210049.0    90.0  96.0  90.0  94.0   92.5              90\n",
       "210115.0    72.0  80.0  58.0  58.0   67.0              73\n",
       "210762.0    48.0  76.0  60.0  70.0   63.5              44\n",
       "210252.0    60.0  78.0  64.0  62.0   66.0              58\n",
       "210264.0    82.0  94.0  88.0  82.0   86.5              93\n",
       "...          ...   ...   ...   ...    ...             ...\n",
       "211366.0    54.0  98.0  48.0  80.0   70.0              71\n",
       "211825.0    50.0  56.0  62.0  80.0   62.0              58\n",
       "211882.0    86.0  98.0  54.0  92.0   82.5              82\n",
       "210232.0    62.0  82.0  34.0  80.0   65.0              77\n",
       "211308.0    24.0  34.0  62.0  50.0   43.0              31\n",
       "\n",
       "[204 rows x 6 columns]"
      ]
     },
     "metadata": {},
     "output_type": "display_data"
    }
   ],
   "source": [
    "display(student_data)"
   ]
  },
  {
   "cell_type": "code",
   "execution_count": 16,
   "id": "04aabb0f",
   "metadata": {},
   "outputs": [],
   "source": [
    "student_data=student_data[['AV_KA','Prog_Exam_Mark']]"
   ]
  },
  {
   "cell_type": "code",
   "execution_count": 17,
   "id": "4b4331c8",
   "metadata": {},
   "outputs": [
    {
     "data": {
      "text/html": [
       "<div>\n",
       "<style scoped>\n",
       "    .dataframe tbody tr th:only-of-type {\n",
       "        vertical-align: middle;\n",
       "    }\n",
       "\n",
       "    .dataframe tbody tr th {\n",
       "        vertical-align: top;\n",
       "    }\n",
       "\n",
       "    .dataframe thead th {\n",
       "        text-align: right;\n",
       "    }\n",
       "</style>\n",
       "<table border=\"1\" class=\"dataframe\">\n",
       "  <thead>\n",
       "    <tr style=\"text-align: right;\">\n",
       "      <th></th>\n",
       "      <th>AV_KA</th>\n",
       "      <th>Prog_Exam_Mark</th>\n",
       "    </tr>\n",
       "    <tr>\n",
       "      <th>Student_ID</th>\n",
       "      <th></th>\n",
       "      <th></th>\n",
       "    </tr>\n",
       "  </thead>\n",
       "  <tbody>\n",
       "    <tr>\n",
       "      <th>210049.0</th>\n",
       "      <td>92.5</td>\n",
       "      <td>90</td>\n",
       "    </tr>\n",
       "    <tr>\n",
       "      <th>210115.0</th>\n",
       "      <td>67.0</td>\n",
       "      <td>73</td>\n",
       "    </tr>\n",
       "    <tr>\n",
       "      <th>210762.0</th>\n",
       "      <td>63.5</td>\n",
       "      <td>44</td>\n",
       "    </tr>\n",
       "    <tr>\n",
       "      <th>210252.0</th>\n",
       "      <td>66.0</td>\n",
       "      <td>58</td>\n",
       "    </tr>\n",
       "    <tr>\n",
       "      <th>210264.0</th>\n",
       "      <td>86.5</td>\n",
       "      <td>93</td>\n",
       "    </tr>\n",
       "    <tr>\n",
       "      <th>...</th>\n",
       "      <td>...</td>\n",
       "      <td>...</td>\n",
       "    </tr>\n",
       "    <tr>\n",
       "      <th>211366.0</th>\n",
       "      <td>70.0</td>\n",
       "      <td>71</td>\n",
       "    </tr>\n",
       "    <tr>\n",
       "      <th>211825.0</th>\n",
       "      <td>62.0</td>\n",
       "      <td>58</td>\n",
       "    </tr>\n",
       "    <tr>\n",
       "      <th>211882.0</th>\n",
       "      <td>82.5</td>\n",
       "      <td>82</td>\n",
       "    </tr>\n",
       "    <tr>\n",
       "      <th>210232.0</th>\n",
       "      <td>65.0</td>\n",
       "      <td>77</td>\n",
       "    </tr>\n",
       "    <tr>\n",
       "      <th>211308.0</th>\n",
       "      <td>43.0</td>\n",
       "      <td>31</td>\n",
       "    </tr>\n",
       "  </tbody>\n",
       "</table>\n",
       "<p>204 rows × 2 columns</p>\n",
       "</div>"
      ],
      "text/plain": [
       "            AV_KA  Prog_Exam_Mark\n",
       "Student_ID                       \n",
       "210049.0     92.5              90\n",
       "210115.0     67.0              73\n",
       "210762.0     63.5              44\n",
       "210252.0     66.0              58\n",
       "210264.0     86.5              93\n",
       "...           ...             ...\n",
       "211366.0     70.0              71\n",
       "211825.0     62.0              58\n",
       "211882.0     82.5              82\n",
       "210232.0     65.0              77\n",
       "211308.0     43.0              31\n",
       "\n",
       "[204 rows x 2 columns]"
      ]
     },
     "metadata": {},
     "output_type": "display_data"
    }
   ],
   "source": [
    "display(student_data)"
   ]
  },
  {
   "cell_type": "code",
   "execution_count": 30,
   "id": "65f749f3",
   "metadata": {},
   "outputs": [
    {
     "name": "stdout",
     "output_type": "stream",
     "text": [
      "<class 'pandas.core.frame.DataFrame'>\n",
      "Index: 203 entries, 210049.0 to 211308.0\n",
      "Data columns (total 2 columns):\n",
      " #   Column          Non-Null Count  Dtype  \n",
      "---  ------          --------------  -----  \n",
      " 0   AV_KA           203 non-null    float64\n",
      " 1   Prog_Exam_Mark  203 non-null    int64  \n",
      "dtypes: float64(1), int64(1)\n",
      "memory usage: 4.8+ KB\n"
     ]
    }
   ],
   "source": [
    "student_data.info()"
   ]
  },
  {
   "cell_type": "code",
   "execution_count": 29,
   "id": "dc8efadb",
   "metadata": {},
   "outputs": [],
   "source": [
    "student_data=student_data.dropna()"
   ]
  },
  {
   "cell_type": "code",
   "execution_count": 52,
   "id": "f79b1448",
   "metadata": {},
   "outputs": [
    {
     "data": {
      "image/png": "[encoded data removed]",
      "text/plain": [
       "<Figure size 864x576 with 1 Axes>"
      ]
     },
     "metadata": {
      "needs_background": "light"
     },
     "output_type": "display_data"
    }
   ],
   "source": [
    "X = student_data[['AV_KA']]\n",
    "y = student_data['Prog_Exam_Mark']\n",
    "fig, ax = plt.subplots(figsize = (12, 8))\n",
    "ax.scatter(X, y)\n",
    "ax.set_title('Average KA mark vs Final Progression Exam Mark')\n",
    "ax.set_xlabel('Average KA mark')\n",
    "ax.set_ylabel('Final Progression Exam Marks')\n",
    "\n",
    "plt.show()\n"
   ]
  },
  {
   "cell_type": "code",
   "execution_count": 32,
   "id": "f43ac64a",
   "metadata": {},
   "outputs": [
    {
     "data": {
      "image/png": "[encoded data removed]",
      "text/plain": [
       "<Figure size 864x576 with 2 Axes>"
      ]
     },
     "metadata": {
      "needs_background": "light"
     },
     "output_type": "display_data"
    }
   ],
   "source": [
    "corr_matrix = student_data.corr(method='pearson')\n",
    "fig, ax = plt.subplots(figsize = (12, 8))\n",
    "sns.heatmap(corr_matrix, ax = ax)\n",
    "plt.show()\n"
   ]
  },
  {
   "cell_type": "code",
   "execution_count": 33,
   "id": "f7c3e3cd",
   "metadata": {},
   "outputs": [
    {
     "name": "stdout",
     "output_type": "stream",
     "text": [
      "AV_KA             1.000000\n",
      "Prog_Exam_Mark    0.808406\n",
      "Name: AV_KA, dtype: float64\n"
     ]
    }
   ],
   "source": [
    "print(corr_matrix.loc['AV_KA'])\n"
   ]
  },
  {
   "cell_type": "code",
   "execution_count": 53,
   "id": "23e80cff",
   "metadata": {},
   "outputs": [
    {
     "data": {
      "text/plain": [
       "LinearRegression()"
      ]
     },
     "execution_count": 53,
     "metadata": {},
     "output_type": "execute_result"
    }
   ],
   "source": [
    "from sklearn.model_selection import train_test_split\n",
    "X_train, X_test, y_train, y_test = train_test_split(X, y, test_size = 0.2)\n",
    "# build model\n",
    "lin_reg = LinearRegression()\n",
    "lin_reg.fit(X_train, y_train)"
   ]
  },
  {
   "cell_type": "code",
   "execution_count": 54,
   "id": "821d0b71",
   "metadata": {},
   "outputs": [
    {
     "name": "stdout",
     "output_type": "stream",
     "text": [
      "4.929988967441432\n"
     ]
    }
   ],
   "source": [
    "print(lin_reg.intercept_)"
   ]
  },
  {
   "cell_type": "code",
   "execution_count": 55,
   "id": "f17f606d",
   "metadata": {},
   "outputs": [
    {
     "name": "stdout",
     "output_type": "stream",
     "text": [
      "0.9467090843511882\n"
     ]
    }
   ],
   "source": [
    "print(lin_reg.coef_[0])\n"
   ]
  },
  {
   "cell_type": "code",
   "execution_count": 56,
   "id": "997ac227",
   "metadata": {},
   "outputs": [
    {
     "data": {
      "image/png": "[encoded data removed]",
      "text/plain": [
       "<Figure size 864x576 with 1 Axes>"
      ]
     },
     "metadata": {
      "needs_background": "light"
     },
     "output_type": "display_data"
    }
   ],
   "source": [
    "X = student_data[['AV_KA']]\n",
    "y = student_data['Prog_Exam_Mark']\n",
    "fig, ax = plt.subplots(figsize = (12, 8))\n",
    "ax.scatter(X, y)\n",
    "ax.axline((0, lin_reg.intercept_), slope=lin_reg.coef_[0], label = 'Regression Line')\n",
    "ax.set_title('Average KA mark vs Final Progression Exam Mark')\n",
    "ax.set_xlabel('Average KA mark')\n",
    "ax.set_ylabel('Final Progression Exam Marks')\n",
    "ax.set_xlim(10, 100)\n",
    "\n",
    "plt.legend()\n",
    "\n",
    "plt.show()\n"
   ]
  },
  {
   "cell_type": "code",
   "execution_count": 46,
   "id": "990d1fac",
   "metadata": {},
   "outputs": [
    {
     "name": "stdout",
     "output_type": "stream",
     "text": [
      "0.6062339702522321\n"
     ]
    }
   ],
   "source": [
    "score = lin_reg.score(X_test, y_test)\n",
    "print(score)"
   ]
  },
  {
   "cell_type": "code",
   "execution_count": 57,
   "id": "e9a7f119",
   "metadata": {},
   "outputs": [
    {
     "name": "stdout",
     "output_type": "stream",
     "text": [
      "12.528534902931307\n"
     ]
    }
   ],
   "source": [
    "y_pred = lin_reg.predict(X_test)\n",
    "rmse = np.sqrt(mean_squared_error(y_test, y_pred))\n",
    "print(rmse)"
   ]
  },
  {
   "cell_type": "code",
   "execution_count": 58,
   "id": "4252c1f2",
   "metadata": {},
   "outputs": [
    {
     "name": "stdout",
     "output_type": "stream",
     "text": [
      "Train Score: 0.6607270701777312, Test Score: 0.6062339702522321\n"
     ]
    }
   ],
   "source": [
    "train_score = lin_reg.score(X_train, y_train)\n",
    "print('Train Score: {}, Test Score: {}'.format(train_score, score))"
   ]
  },
  {
   "cell_type": "code",
   "execution_count": 59,
   "id": "45176e5c",
   "metadata": {},
   "outputs": [
    {
     "data": {
      "text/html": [
       "<div>\n",
       "<style scoped>\n",
       "    .dataframe tbody tr th:only-of-type {\n",
       "        vertical-align: middle;\n",
       "    }\n",
       "\n",
       "    .dataframe tbody tr th {\n",
       "        vertical-align: top;\n",
       "    }\n",
       "\n",
       "    .dataframe thead th {\n",
       "        text-align: right;\n",
       "    }\n",
       "</style>\n",
       "<table border=\"1\" class=\"dataframe\">\n",
       "  <thead>\n",
       "    <tr style=\"text-align: right;\">\n",
       "      <th></th>\n",
       "      <th>AV_KA</th>\n",
       "      <th>Predicted Prog Exam Mark</th>\n",
       "    </tr>\n",
       "  </thead>\n",
       "  <tbody>\n",
       "    <tr>\n",
       "      <th>0</th>\n",
       "      <td>44</td>\n",
       "      <td>45.728492</td>\n",
       "    </tr>\n",
       "    <tr>\n",
       "      <th>1</th>\n",
       "      <td>65</td>\n",
       "      <td>65.600454</td>\n",
       "    </tr>\n",
       "    <tr>\n",
       "      <th>2</th>\n",
       "      <td>87</td>\n",
       "      <td>86.418700</td>\n",
       "    </tr>\n",
       "  </tbody>\n",
       "</table>\n",
       "</div>"
      ],
      "text/plain": [
       "   AV_KA  Predicted Prog Exam Mark\n",
       "0     44                 45.728492\n",
       "1     65                 65.600454\n",
       "2     87                 86.418700"
      ]
     },
     "metadata": {},
     "output_type": "display_data"
    }
   ],
   "source": [
    "lin_reg_production = LinearRegression()\n",
    "lin_reg_production.fit(X, y)\n",
    "# make predictions\n",
    "expends_predict = pd.DataFrame([44, 65, 87], columns = X_train.columns)\n",
    "predictions = lin_reg_production.predict(expends_predict)\n",
    "output = expends_predict.copy()\n",
    "output['Predicted Prog Exam Mark'] = predictions\n",
    "display(output)"
   ]
  },
  {
   "cell_type": "code",
   "execution_count": null,
   "id": "c5a883c9",
   "metadata": {},
   "outputs": [],
   "source": []
  }
 ],
 "metadata": {
  "kernelspec": {
   "display_name": "Python 3 (ipykernel)",
   "language": "python",
   "name": "python3"
  },
  "language_info": {
   "codemirror_mode": {
    "name": "ipython",
    "version": 3
   },
   "file_extension": ".py",
   "mimetype": "text/x-python",
   "name": "python",
   "nbconvert_exporter": "python",
   "pygments_lexer": "ipython3",
   "version": "3.9.7"
  }
 },
 "nbformat": 4,
 "nbformat_minor": 5
}
